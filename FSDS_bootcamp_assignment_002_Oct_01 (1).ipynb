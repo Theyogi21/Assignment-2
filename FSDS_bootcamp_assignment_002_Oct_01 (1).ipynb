{
  "nbformat": 4,
  "nbformat_minor": 0,
  "metadata": {
    "colab": {
      "provenance": [],
      "collapsed_sections": []
    },
    "kernelspec": {
      "name": "python3",
      "display_name": "Python 3"
    },
    "language_info": {
      "name": "python"
    }
  },
  "cells": [
    {
      "cell_type": "markdown",
      "source": [
        "# ASSIGNMENTS - Compulsory\n",
        "## Send it before 0000 hrs IST or 12 AM Wednesday\n",
        "\n",
        "## NOTE: Evaluation will be done before next class.\n",
        "\n",
        "## HOW TO SUBMIT: -\n",
        "Download this notebook, Solve it and upload in the google form given in the mail."
      ],
      "metadata": {
        "id": "cyOfbWCdOjEr"
      }
    },
    {
      "cell_type": "markdown",
      "source": [
        "\n",
        "1. What is indentation error? Why indentation is important? Give one simple example?\n",
        "\n",
        "2. Correct the following code and write the comment where you made the correction?\n",
        "\n",
        "  ```python\n",
        "  class_started = bool(input(\"Hey friend, is class started?: [0-False/1-True]\"))\n",
        "\n",
        "  if class_started:\n",
        "      print(\"Since class started...\")\n",
        "      print(\"Lets concentrate\")\n",
        "  else:\n",
        "      print(\"Since class is not started...\")\n",
        "      print(\"let's revise\")    \n",
        "  ```\n",
        "\n",
        "  **HINT:** Refer your data type conversion class\n",
        "\n",
        "3. Use if else condition to verify that dataype of `input()` method in python is always string.\n",
        "\n",
        "4. Take 3 variables and assign integer values to them. Find the largest variable, by only using the if and else conditions.\n",
        "\n",
        "\n",
        "5. What would be the solution?\n",
        "    1. True\n",
        "    2. False\n",
        "\n",
        "    ```python\n",
        "    a = 6\n",
        "    b = 10\n",
        "    print( not ( not a == 10 or not b == 10) )\n",
        "    ```\n",
        "    \n",
        "6. Find the answer as well as find out the reason behind the result? -\n",
        "    - case 1:\n",
        "        ```python\n",
        "        A = 5.0\n",
        "        B = 10/2\n",
        "        print(A is B)\n",
        "        ```\n",
        "    - case 2:\n",
        "        ```python\n",
        "        A = 5.0\n",
        "        B = int(10/2)\n",
        "        print(A is B)\n",
        "        ```\n",
        "    - case 3:\n",
        "        ```python\n",
        "        A = 5.0\n",
        "        B = float(10/2)\n",
        "        print(A is B)\n",
        "        ```"
      ],
      "metadata": {
        "id": "GT4IytkJMNa-"
      }
    },
    {
      "cell_type": "markdown",
      "source": [
        "### Try to understand the following examples and answer the question based on it - \n",
        "    \n",
        "**Arithmatic Operators**\n",
        "\n",
        "|Operation|Meaning|\n",
        "|:-:|:-:|\n",
        "| **+** |addition|\n",
        "| **-** |subtraction|\n",
        "| **\\*** |multiplication|\n",
        "| **/** |true division|\n",
        "| **//** |integer division|\n",
        "| **%** |the modulo operator|\n",
        "\n",
        "\n",
        "Here `+`, `-`, `*`, `/` are regular arithmatic operators. Lets look at the `//` and `%` operators\n",
        "\n",
        "Usecase or examples - \n",
        "    \n",
        "```python\n",
        "var_a = 5\n",
        "var_b = 25\n",
        "integer_division = var_b // var_a\n",
        "print(f\"integer division: {var_b}/{var_a}={integer_division}\")\n",
        "```\n",
        "\n",
        "OUTPUT: integer division: 25/5=5\n",
        "\n",
        "```python\n",
        "var_a = 3\n",
        "var_b = 25\n",
        "integer_division = var_b // var_a\n",
        "print(f\"integer division: {var_b}/{var_a}={integer_division}\")\n",
        "```\n",
        "\n",
        "OUTPUT: integer division: 25/3=8\n",
        "\n",
        "```python\n",
        "var_a = 5\n",
        "var_b = 25\n",
        "remainder = var_b % var_a\n",
        "print(f\"remainder: {var_b}/{var_a} is {remainder}\")\n",
        "```\n",
        "\n",
        "OUTPUT: remainder: 25/5 is 0\n",
        "\n",
        "```python\n",
        "var_a = 3\n",
        "var_b = 25\n",
        "remainder = var_b % var_a\n",
        "print(f\"remainder: {var_b}/{var_a} is {remainder}\")\n",
        "```\n",
        "\n",
        "OUTPUT: remainder: 25/3 is 1\n",
        "\n"
      ],
      "metadata": {
        "id": "a_4kbBVWNY-4"
      }
    },
    {
      "cell_type": "markdown",
      "source": [
        "### Answer below questions on the above theory - \n",
        "\n",
        "7. Write a program that asks the user to enter a number. You should print out a message to the user, either “That number is divisible by either 3 or 5”, or “That number is not divisible by either 3 or 5”. Be sure to consider the data type of the input you are taking in from the user. Use a single if/else block to solve this problem.\n",
        "\n",
        "8. Take user input for length and width. Then calculate the area of rectangle. Also print as per length and width whether its a square of rectangle.\n",
        "\n",
        "9. Take two variable radius_1 and radius_2 and calculate the area of circle_1 and circle_2. Also print which circle has large area. If area is equal then print area is equal.\n",
        "\n",
        "10. Check whether a year is leap year or not. Use nested if...else to solve this problem. A leap year is exactly divisible by 4 except for century years (years ending with 00). The century year is a leap year only if it is perfectly divisible by 400."
      ],
      "metadata": {
        "id": "v288WPlMNxmM"
      }
    },
    {
      "cell_type": "markdown",
      "source": [
        "#Answers \n",
        "\n",
        "\n"
      ],
      "metadata": {
        "id": "NCPn2QiJGDq-"
      }
    },
    {
      "cell_type": "markdown",
      "source": [
        "1- While using if else function we use it.\n",
        "  after using if , before starting next line( print line ) we must give some space other wise it will show indentation errer.\n",
        "To solve it we need to remember some ponts-\n",
        " a- Before print line there should be some space.\n",
        " b- Before if and else line there should be same space.\n",
        "\n",
        " example-\n"
      ],
      "metadata": {
        "id": "zyHeVXQoGKrT"
      }
    },
    {
      "cell_type": "code",
      "execution_count": null,
      "metadata": {
        "id": "XumyqFp6MHnv",
        "colab": {
          "base_uri": "https://localhost:8080/",
          "height": 130
        },
        "outputId": "964589b7-7c34-497e-d0f3-8987018cfe5b"
      },
      "outputs": [
        {
          "output_type": "error",
          "ename": "IndentationError",
          "evalue": "ignored",
          "traceback": [
            "\u001b[0;36m  File \u001b[0;32m\"<ipython-input-2-177d930fd214>\"\u001b[0;36m, line \u001b[0;32m4\u001b[0m\n\u001b[0;31m    print(\"lets take umbrella\")\u001b[0m\n\u001b[0m        ^\u001b[0m\n\u001b[0;31mIndentationError\u001b[0m\u001b[0;31m:\u001b[0m expected an indented block\n"
          ]
        }
      ],
      "source": [
        "Raining=True \n",
        "\n",
        "if Raining:\n",
        "print(\"lets take umbrella\")  #There is no space before print.\n",
        "else:\n",
        "    print(\"We can go outside normally\")    "
      ]
    },
    {
      "cell_type": "code",
      "source": [
        "Raining=True \n",
        "\n",
        "if Raining:\n",
        "  print(\"lets take umbrella\")   # if and else both are not staright in line.||\n",
        "   else:\n",
        "    print(\"We can go outside normally\")  "
      ],
      "metadata": {
        "colab": {
          "base_uri": "https://localhost:8080/",
          "height": 130
        },
        "id": "nm6fofU_H3i2",
        "outputId": "cf12feec-77e3-4c3f-a203-d0157a6d7784"
      },
      "execution_count": null,
      "outputs": [
        {
          "output_type": "error",
          "ename": "IndentationError",
          "evalue": "ignored",
          "traceback": [
            "\u001b[0;36m  File \u001b[0;32m\"<ipython-input-4-fd47e714bac6>\"\u001b[0;36m, line \u001b[0;32m5\u001b[0m\n\u001b[0;31m    else:\u001b[0m\n\u001b[0m    ^\u001b[0m\n\u001b[0;31mIndentationError\u001b[0m\u001b[0;31m:\u001b[0m unexpected indent\n"
          ]
        }
      ]
    },
    {
      "cell_type": "code",
      "source": [
        "Raining=True # This is example keeping in mind upper both the errors.\n",
        "\n",
        "if Raining:\n",
        "    print(\"lets take umbrella\")\n",
        "else:\n",
        "    print(\"We can go outside normally\")  "
      ],
      "metadata": {
        "colab": {
          "base_uri": "https://localhost:8080/"
        },
        "id": "a0zGO63iILS2",
        "outputId": "9c239232-cf0d-4651-9892-21d1f55b14fe"
      },
      "execution_count": null,
      "outputs": [
        {
          "output_type": "stream",
          "name": "stdout",
          "text": [
            "lets take umbrella\n"
          ]
        }
      ]
    },
    {
      "cell_type": "markdown",
      "source": [
        "#Ans-2\n"
      ],
      "metadata": {
        "id": "sqv5SDp9JGjC"
      }
    },
    {
      "cell_type": "code",
      "source": [
        "class_started =int(input(\"Hey friend, is class started?: [0-False or 1-True]\"))\n",
        "\n",
        "if class_started:\n",
        "   print(\"Since class started...\")\n",
        "   print(\"Lets concentrate\")\n",
        "else:\n",
        "   print(\"Since class is not started...\")\n",
        "   print(\"let's revise\")   "
      ],
      "metadata": {
        "colab": {
          "base_uri": "https://localhost:8080/"
        },
        "id": "SgBlCzy-8Oem",
        "outputId": "78476877-c00b-4c89-c7f8-99aa1a5fcb71"
      },
      "execution_count": 73,
      "outputs": [
        {
          "output_type": "stream",
          "name": "stdout",
          "text": [
            "Hey friend, is class started?: [0-False or 1-True]0\n",
            "Since class is not started...\n",
            "let's revise\n"
          ]
        }
      ]
    },
    {
      "cell_type": "code",
      "source": [
        "class_started =int(input(\"Hey friend, is class started?: [0-False / 1-True]\"))\n",
        "\n",
        "if class_started:\n",
        "   print(\"Since class started...\")\n",
        "   print(\"Lets concentrate\")\n",
        "else:\n",
        "   print(\"Since class is not started...\")\n",
        "   print(\"let's revise\") "
      ],
      "metadata": {
        "colab": {
          "base_uri": "https://localhost:8080/"
        },
        "id": "A3SF0_9t9JK_",
        "outputId": "f3305387-ef72-483a-8714-eb272415ea84"
      },
      "execution_count": 85,
      "outputs": [
        {
          "output_type": "stream",
          "name": "stdout",
          "text": [
            "Hey friend, is class started?: [0-False / 1-True]1\n",
            "Since class started...\n",
            "Lets concentrate\n"
          ]
        }
      ]
    },
    {
      "cell_type": "markdown",
      "source": [
        "#3- Use if else condition to verify that dataype of input() method in python is always string.\n"
      ],
      "metadata": {
        "id": "nqY0cOhCd2zx"
      }
    },
    {
      "cell_type": "code",
      "source": [
        "Raining=(input(\"Yes / No\"))\n",
        "\n",
        "if Raining==Yes:\n",
        "  (print(\"stay at home only\"))\n",
        "  print(type(Raining))\n",
        "else:\n",
        "  (\"You can go outside\")"
      ],
      "metadata": {
        "colab": {
          "base_uri": "https://localhost:8080/",
          "height": 252
        },
        "id": "4GYcKeFhJgcn",
        "outputId": "e9e5ec01-9602-4346-c193-d122ad921b6a"
      },
      "execution_count": 94,
      "outputs": [
        {
          "name": "stdout",
          "output_type": "stream",
          "text": [
            "Yes / NoYes\n"
          ]
        },
        {
          "output_type": "error",
          "ename": "NameError",
          "evalue": "ignored",
          "traceback": [
            "\u001b[0;31m---------------------------------------------------------------------------\u001b[0m",
            "\u001b[0;31mNameError\u001b[0m                                 Traceback (most recent call last)",
            "\u001b[0;32m<ipython-input-94-1c3d005c8860>\u001b[0m in \u001b[0;36m<module>\u001b[0;34m\u001b[0m\n\u001b[1;32m      1\u001b[0m \u001b[0mRaining\u001b[0m\u001b[0;34m=\u001b[0m\u001b[0;34m(\u001b[0m\u001b[0minput\u001b[0m\u001b[0;34m(\u001b[0m\u001b[0;34m\"Yes / No\"\u001b[0m\u001b[0;34m)\u001b[0m\u001b[0;34m)\u001b[0m\u001b[0;34m\u001b[0m\u001b[0;34m\u001b[0m\u001b[0m\n\u001b[1;32m      2\u001b[0m \u001b[0;34m\u001b[0m\u001b[0m\n\u001b[0;32m----> 3\u001b[0;31m \u001b[0;32mif\u001b[0m \u001b[0mRaining\u001b[0m\u001b[0;34m==\u001b[0m\u001b[0mYes\u001b[0m\u001b[0;34m:\u001b[0m\u001b[0;34m\u001b[0m\u001b[0;34m\u001b[0m\u001b[0m\n\u001b[0m\u001b[1;32m      4\u001b[0m   \u001b[0;34m(\u001b[0m\u001b[0mprint\u001b[0m\u001b[0;34m(\u001b[0m\u001b[0;34m\"stay at home only\"\u001b[0m\u001b[0;34m)\u001b[0m\u001b[0;34m)\u001b[0m\u001b[0;34m\u001b[0m\u001b[0;34m\u001b[0m\u001b[0m\n\u001b[1;32m      5\u001b[0m   \u001b[0mprint\u001b[0m\u001b[0;34m(\u001b[0m\u001b[0mtype\u001b[0m\u001b[0;34m(\u001b[0m\u001b[0mRaining\u001b[0m\u001b[0;34m)\u001b[0m\u001b[0;34m)\u001b[0m\u001b[0;34m\u001b[0m\u001b[0;34m\u001b[0m\u001b[0m\n",
            "\u001b[0;31mNameError\u001b[0m: name 'Yes' is not defined"
          ]
        }
      ]
    },
    {
      "cell_type": "code",
      "source": [
        "Raining=int(input(\"1-Yes / 0-No\"))\n",
        "\n",
        "if Raining:\n",
        "  (print(\"stay at home only\"))\n",
        "  print(type(Raining))\n",
        "else:\n",
        "  (\"You can go outside\")"
      ],
      "metadata": {
        "colab": {
          "base_uri": "https://localhost:8080/"
        },
        "id": "2cIsxXA5ebjf",
        "outputId": "3b77cab3-cef4-4ae5-c8fd-d7ae60aeaac0"
      },
      "execution_count": 90,
      "outputs": [
        {
          "name": "stdout",
          "output_type": "stream",
          "text": [
            "1-Yes / 0-No0\n"
          ]
        }
      ]
    },
    {
      "cell_type": "code",
      "source": [
        "Earn=30000\n",
        "\n",
        "if Earn>20000:\n",
        "  print(\"You are earning good\")\n",
        "  print(type(Earn))\n",
        "else:\n",
        "  print(\"Earn more\")\n",
        "  "
      ],
      "metadata": {
        "colab": {
          "base_uri": "https://localhost:8080/"
        },
        "id": "9IuCapOKigVc",
        "outputId": "e30fbe00-4d6a-49cd-b0db-3d1de47f1b54"
      },
      "execution_count": null,
      "outputs": [
        {
          "output_type": "stream",
          "name": "stdout",
          "text": [
            "You are earning good\n",
            "<class 'int'>\n"
          ]
        }
      ]
    },
    {
      "cell_type": "code",
      "source": [
        "Earn=input(\"Please enter your earning:{in rupees}\")\n",
        "\n",
        "if int(Earn)>=20000:\n",
        "  print(\"You are earning good\")\n",
        "  print(type(Earn))\n",
        "else:\n",
        "  print(\"Earn more\")"
      ],
      "metadata": {
        "colab": {
          "base_uri": "https://localhost:8080/"
        },
        "id": "KLQzxN4tj_2p",
        "outputId": "a8af16e6-55d9-493c-b61e-79dee466f3ed"
      },
      "execution_count": null,
      "outputs": [
        {
          "output_type": "stream",
          "name": "stdout",
          "text": [
            "Please enter your earning:{in rupees}21000\n",
            "You are earning good\n",
            "<class 'str'>\n"
          ]
        }
      ]
    },
    {
      "cell_type": "code",
      "source": [
        "Earn=input(\"Please enter your earning:{in rupees}\")\n",
        "\n",
        "if int(Earn)>=20000:\n",
        "  print(\"You are earning good\")\n",
        "  print(type(Earn))\n",
        "else:\n",
        "  print(\"Earn more\")\n",
        "  print(type(Earn))"
      ],
      "metadata": {
        "colab": {
          "base_uri": "https://localhost:8080/"
        },
        "id": "RQped2rfkmR0",
        "outputId": "23f59fbf-7916-4c04-b56d-3f15446b35e1"
      },
      "execution_count": null,
      "outputs": [
        {
          "output_type": "stream",
          "name": "stdout",
          "text": [
            "Please enter your earning:{in rupees}19000\n",
            "Earn more\n",
            "<class 'str'>\n"
          ]
        }
      ]
    },
    {
      "cell_type": "code",
      "source": [
        "Earn=input(\"Please enter your earning:{in rupees}\")\n",
        "\n",
        "if Earn>=str(20000):\n",
        "  print(\"You are earning good\")\n",
        "  print(type(Earn))\n",
        "else:\n",
        "  print(\"Earn more\")\n",
        "  print(type(Earn))"
      ],
      "metadata": {
        "colab": {
          "base_uri": "https://localhost:8080/"
        },
        "id": "DX-a7xh0k7CU",
        "outputId": "b293658c-3644-43bd-a5e1-5c8809f2a4f9"
      },
      "execution_count": null,
      "outputs": [
        {
          "output_type": "stream",
          "name": "stdout",
          "text": [
            "Please enter your earning:{in rupees}21000\n",
            "You are earning good\n",
            "<class 'str'>\n"
          ]
        }
      ]
    },
    {
      "cell_type": "code",
      "source": [
        "Earn=input(\"Please enter your earning:{in rupees}\")\n",
        "\n",
        "if Earn>=str(20000):\n",
        "  print(\"You are earning good\")\n",
        "  print(type(Earn))\n",
        "else:\n",
        "  print(\"Earn more\")\n",
        "  print(type(Earn))"
      ],
      "metadata": {
        "colab": {
          "base_uri": "https://localhost:8080/"
        },
        "id": "rGP3rTkplMKF",
        "outputId": "4f952c33-4fda-491b-b31b-234994a04a73"
      },
      "execution_count": null,
      "outputs": [
        {
          "output_type": "stream",
          "name": "stdout",
          "text": [
            "Please enter your earning:{in rupees}19000\n",
            "Earn more\n",
            "<class 'str'>\n"
          ]
        }
      ]
    },
    {
      "cell_type": "code",
      "source": [
        "A=input(\"please enter value of A:{ In numbers}\")\n",
        "B=input(\"Please enter value of B:{ In Numbers }\")\n",
        "\n",
        "if A>B:\n",
        "  print(\"A\")\n",
        "  print(type(A))\n",
        "else:\n",
        "  print(\"B\")\n",
        "  print(type(B))  "
      ],
      "metadata": {
        "colab": {
          "base_uri": "https://localhost:8080/"
        },
        "id": "xPth_NdXlPc_",
        "outputId": "7bc69aad-63e6-4ed6-d056-d364fed824b9"
      },
      "execution_count": null,
      "outputs": [
        {
          "output_type": "stream",
          "name": "stdout",
          "text": [
            "please enter value of A:{ In numbers}12\n",
            "Please enter value of B:{ In Numbers }15\n",
            "B\n",
            "<class 'str'>\n"
          ]
        }
      ]
    },
    {
      "cell_type": "code",
      "source": [
        "A=input(\"please enter value of A:{ In numbers}\")\n",
        "B=input(\"Please enter value of B:{ In Numbers }\")\n",
        "\n",
        "if A>B:\n",
        "  print(\"A\")\n",
        "  print(type(A))\n",
        "else:\n",
        "  print(\"B\")\n",
        "  print(type(B))  "
      ],
      "metadata": {
        "colab": {
          "base_uri": "https://localhost:8080/"
        },
        "id": "MtwTLDO4mPy1",
        "outputId": "e91695fd-043c-4cb2-f19e-108a74aa4eba"
      },
      "execution_count": null,
      "outputs": [
        {
          "output_type": "stream",
          "name": "stdout",
          "text": [
            "please enter value of A:{ In numbers}15\n",
            "Please enter value of B:{ In Numbers }12\n",
            "A\n",
            "<class 'str'>\n"
          ]
        }
      ]
    },
    {
      "cell_type": "markdown",
      "source": [
        "#Que-4 Take 3 variables and assign integer values to them. Find the largest variable, by only using the if and else conditions"
      ],
      "metadata": {
        "id": "1FoDkHHQm8LZ"
      }
    },
    {
      "cell_type": "code",
      "source": [
        "a=120\n",
        "b=130\n",
        "c=100\n",
        "\n",
        "if a>b>c:\n",
        "  print(\"a\")\n",
        "elif b>c:\n",
        "  print(\"b\")  \n",
        "else:   \n",
        "  print(\"c\")"
      ],
      "metadata": {
        "colab": {
          "base_uri": "https://localhost:8080/"
        },
        "id": "N6rhx9fTmqyn",
        "outputId": "0026d88a-1c63-4ebd-fa1f-8e2ec4351842"
      },
      "execution_count": 30,
      "outputs": [
        {
          "output_type": "stream",
          "name": "stdout",
          "text": [
            "b\n"
          ]
        }
      ]
    },
    {
      "cell_type": "code",
      "source": [],
      "metadata": {
        "id": "hur6ehnv005h"
      },
      "execution_count": null,
      "outputs": []
    },
    {
      "cell_type": "markdown",
      "source": [
        "#-5 What would be the solution?\n",
        "\n",
        "True\n",
        "\n",
        "False"
      ],
      "metadata": {
        "id": "GPiQP8Kp4u8X"
      }
    },
    {
      "cell_type": "code",
      "source": [
        "a = 6\n",
        "b = 10\n",
        "print( not ( not a == 10 or not b == 10) )"
      ],
      "metadata": {
        "colab": {
          "base_uri": "https://localhost:8080/"
        },
        "id": "Talu2Ibh41fl",
        "outputId": "113eb72f-afdc-404f-ef01-8c24e088b3cf"
      },
      "execution_count": 50,
      "outputs": [
        {
          "output_type": "stream",
          "name": "stdout",
          "text": [
            "False\n"
          ]
        }
      ]
    },
    {
      "cell_type": "code",
      "source": [
        "a = 6\n",
        "b = 10\n",
        "print( not ( not a == 10 and not b == 10) )"
      ],
      "metadata": {
        "colab": {
          "base_uri": "https://localhost:8080/"
        },
        "id": "3j9Bpr-X48MX",
        "outputId": "8e0143c5-4be6-4ac8-ff65-f4d56a2f635a"
      },
      "execution_count": 62,
      "outputs": [
        {
          "output_type": "stream",
          "name": "stdout",
          "text": [
            "True\n"
          ]
        }
      ]
    },
    {
      "cell_type": "markdown",
      "source": [
        "#6-Find the answer as well as find out the reason behind the result? -\n",
        "\n",
        "A-"
      ],
      "metadata": {
        "id": "D4ZfLjcq3woa"
      }
    },
    {
      "cell_type": "markdown",
      "source": [
        "In this example both A and B are same as per their mathematical solution "
      ],
      "metadata": {
        "id": "8X8kEVPY33q7"
      }
    },
    {
      "cell_type": "code",
      "source": [
        "  A = 5.0\n",
        "  B = 10/2\n",
        "  print(A is B)"
      ],
      "metadata": {
        "colab": {
          "base_uri": "https://localhost:8080/"
        },
        "id": "jpEmYqR91Fm6",
        "outputId": "5e90e197-fbf8-467d-b82b-04fb05c512b7"
      },
      "execution_count": null,
      "outputs": [
        {
          "output_type": "stream",
          "name": "stdout",
          "text": [
            "False\n"
          ]
        }
      ]
    },
    {
      "cell_type": "code",
      "source": [
        "  A = 5.0\n",
        "  B = 10/2\n",
        "  print(A == B)"
      ],
      "metadata": {
        "colab": {
          "base_uri": "https://localhost:8080/"
        },
        "id": "zI7NJNoA1X-a",
        "outputId": "6851a5ff-2550-4918-de37-e65f4ead471a"
      },
      "execution_count": null,
      "outputs": [
        {
          "output_type": "stream",
          "name": "stdout",
          "text": [
            "True\n"
          ]
        }
      ]
    },
    {
      "cell_type": "code",
      "source": [
        "  A = 5.0\n",
        "  B = int(10/2)\n",
        "  print(A is B)"
      ],
      "metadata": {
        "colab": {
          "base_uri": "https://localhost:8080/"
        },
        "id": "Hx6jtpbG1hKJ",
        "outputId": "bf64cb42-d4a4-44f7-8064-c001a1cd95e9"
      },
      "execution_count": null,
      "outputs": [
        {
          "output_type": "stream",
          "name": "stdout",
          "text": [
            "False\n"
          ]
        }
      ]
    },
    {
      "cell_type": "code",
      "source": [
        "A = int(5.0)\n",
        "B = int(10/2)\n",
        "print(A is B)"
      ],
      "metadata": {
        "colab": {
          "base_uri": "https://localhost:8080/"
        },
        "id": "NCzR6yHIIezU",
        "outputId": "e17058c9-3478-431c-bc7a-474a0dfa609b"
      },
      "execution_count": null,
      "outputs": [
        {
          "output_type": "stream",
          "name": "stdout",
          "text": [
            "True\n"
          ]
        }
      ]
    },
    {
      "cell_type": "code",
      "source": [
        "A = 5.0\n",
        "B = float(10/2)\n",
        "print(A is B)"
      ],
      "metadata": {
        "colab": {
          "base_uri": "https://localhost:8080/"
        },
        "id": "eopBzsV8Itcn",
        "outputId": "7aa6f2f2-d7c6-4062-9545-03c01defd644"
      },
      "execution_count": null,
      "outputs": [
        {
          "output_type": "stream",
          "name": "stdout",
          "text": [
            "False\n"
          ]
        }
      ]
    },
    {
      "cell_type": "code",
      "source": [
        "A = 5.0\n",
        "B = float(10/2)\n",
        "type(A)\n",
        "type(B)\n"
      ],
      "metadata": {
        "colab": {
          "base_uri": "https://localhost:8080/"
        },
        "id": "xNOoy2_KI8sI",
        "outputId": "e764ff29-fc2c-4b96-ed5a-8389bd24ea5a"
      },
      "execution_count": null,
      "outputs": [
        {
          "output_type": "execute_result",
          "data": {
            "text/plain": [
              "float"
            ]
          },
          "metadata": {},
          "execution_count": 7
        }
      ]
    },
    {
      "cell_type": "code",
      "source": [
        "A = 5.0\n",
        "B = 10/2\n",
        "print(A is B)"
      ],
      "metadata": {
        "colab": {
          "base_uri": "https://localhost:8080/"
        },
        "id": "rncjPp8uJUyL",
        "outputId": "3830d119-68ad-4806-c4aa-c442c2aad8c0"
      },
      "execution_count": null,
      "outputs": [
        {
          "output_type": "stream",
          "name": "stdout",
          "text": [
            "False\n"
          ]
        }
      ]
    },
    {
      "cell_type": "code",
      "source": [
        "A = 5.0\n",
        "B = float(10/2)\n",
        "print(A == B)"
      ],
      "metadata": {
        "colab": {
          "base_uri": "https://localhost:8080/"
        },
        "id": "34YFV2qaJl-H",
        "outputId": "c31467c2-17e2-40e6-a149-03aa4f009229"
      },
      "execution_count": null,
      "outputs": [
        {
          "output_type": "stream",
          "name": "stdout",
          "text": [
            "True\n"
          ]
        }
      ]
    },
    {
      "cell_type": "markdown",
      "source": [
        "#7-Write a program that asks the user to enter a number. You should print out a message to the user, either “That number is divisible by either 3 or 5”, or “That number is not divisible by either 3 or 5”. Be sure to consider the data type of the input you are taking in from the user. Use a single if/else block to solve this problem.\n"
      ],
      "metadata": {
        "id": "JrTJKE9k1fet"
      }
    },
    {
      "cell_type": "code",
      "source": [
        "Number=float(input(\"Please enter a number :{ Number}\"))\n",
        "\n",
        "if ((Number % 3) == 0 or (Number % 5)==0):\n",
        "  print( \"Entered number is divisible by 3 or 5\")\n",
        "else :\n",
        "  print(\"Entered number is not divisible by 3 or 5\") "
      ],
      "metadata": {
        "colab": {
          "base_uri": "https://localhost:8080/"
        },
        "id": "2_5VDNrs1kKO",
        "outputId": "941ad6ad-ad5f-4332-90d6-385abbcbd2b1"
      },
      "execution_count": 45,
      "outputs": [
        {
          "output_type": "stream",
          "name": "stdout",
          "text": [
            "Please enter a number :{ Number}16\n",
            "Entered number is not divisible by 3 or 5\n"
          ]
        }
      ]
    },
    {
      "cell_type": "code",
      "source": [
        "Number=float(input(\"Please enter a number :{ Number}\"))\n",
        "\n",
        "if ((Number % 3) == 0 or (Number % 5)==0):\n",
        "  print( \"Entered number is divisible by 3 or 5\")\n",
        "else :\n",
        "  print(\"Entered number is not divisible by 3 or 5\") "
      ],
      "metadata": {
        "colab": {
          "base_uri": "https://localhost:8080/"
        },
        "id": "erYVTZED3Mws",
        "outputId": "03226bd6-ff01-499b-da01-9017de5128ed"
      },
      "execution_count": 47,
      "outputs": [
        {
          "output_type": "stream",
          "name": "stdout",
          "text": [
            "Please enter a number :{ Number}15\n",
            "Entered number is divisible by 3 or 5\n"
          ]
        }
      ]
    },
    {
      "cell_type": "code",
      "source": [
        "Number=float(input(\"Please enter a number :{ Number}\"))\n",
        "\n",
        "if ((Number % 3) == 0 or (Number % 5)==0):\n",
        "  print( \"Entered number is divisible by 3 or 5\")\n",
        "else :\n",
        "  print(\"Entered number is not divisible by 3 or 5\") "
      ],
      "metadata": {
        "colab": {
          "base_uri": "https://localhost:8080/"
        },
        "id": "T3kzlcvX4Fjf",
        "outputId": "c2eede3f-4999-41a1-eb23-e0b2de1d2cf4"
      },
      "execution_count": 48,
      "outputs": [
        {
          "output_type": "stream",
          "name": "stdout",
          "text": [
            "Please enter a number :{ Number}3\n",
            "Entered number is divisible by 3 or 5\n"
          ]
        }
      ]
    },
    {
      "cell_type": "markdown",
      "source": [],
      "metadata": {
        "id": "A54RFwas1eSd"
      }
    },
    {
      "cell_type": "code",
      "source": [
        "Number=float(input(\"Please enter a number :{ Number}\"))\n",
        "\n",
        "if ((Number % 3) == 0 or (Number % 5)==0):\n",
        "  print( \"Entered number is divisible by 3 or 5\")\n",
        "else :\n",
        "  print(\"Entered number is not divisible by 3 or 5\") "
      ],
      "metadata": {
        "colab": {
          "base_uri": "https://localhost:8080/"
        },
        "id": "2a8JMiwg4IuK",
        "outputId": "46736ce6-62ed-40d2-cf0b-293c52ad879c"
      },
      "execution_count": 49,
      "outputs": [
        {
          "output_type": "stream",
          "name": "stdout",
          "text": [
            "Please enter a number :{ Number}5\n",
            "Entered number is divisible by 3 or 5\n"
          ]
        }
      ]
    },
    {
      "cell_type": "markdown",
      "source": [
        "#8-Take user input for length and width. Then calculate the area of rectangle. Also print as per length and width whether its a square of rectangle."
      ],
      "metadata": {
        "id": "KQ_xev8qVIlr"
      }
    },
    {
      "cell_type": "code",
      "source": [
        "\n",
        "Length=int(input(\"Lenght : {Length of rectangle or square}\"))\n",
        "Width=int(input(\"Width : {Width of rectangle or square}\"))\n",
        "\n",
        "Area=Length*Width\n",
        "print(Area)\n",
        "if Length==Width:\n",
        "  print(\"It is a square\")\n",
        "else:\n",
        "  print(\"It is a rectangle\")"
      ],
      "metadata": {
        "colab": {
          "base_uri": "https://localhost:8080/"
        },
        "id": "D5fC21LzJuKw",
        "outputId": "ff83d01e-dd4d-421b-fbb6-5d71e8284573"
      },
      "execution_count": null,
      "outputs": [
        {
          "output_type": "stream",
          "name": "stdout",
          "text": [
            "Lenght : {Length of rectangle or square}30\n",
            "Width : {Width of rectangle or square}20\n",
            "600\n",
            "It is a rectangle\n"
          ]
        }
      ]
    },
    {
      "cell_type": "code",
      "source": [
        "\n",
        "Length=int(input(\"Lenght : {Length of rectangle or square}\"))\n",
        "Width=int(input(\"Width : {Width of rectangle or square}\"))\n",
        "\n",
        "Area=Length*Width\n",
        "print(Area)\n",
        "if Length==Width:\n",
        "  print(\"It is a square\")\n",
        "else:\n",
        "  print(\"It is a rectangle\")"
      ],
      "metadata": {
        "colab": {
          "base_uri": "https://localhost:8080/"
        },
        "id": "gLoqqqUrUD7S",
        "outputId": "435d9c61-b4e8-42cc-e592-8f903fd98b02"
      },
      "execution_count": null,
      "outputs": [
        {
          "output_type": "stream",
          "name": "stdout",
          "text": [
            "Lenght : {Length of rectangle or square}30\n",
            "Width : {Width of rectangle or square}30\n",
            "900\n",
            "It is a square\n"
          ]
        }
      ]
    },
    {
      "cell_type": "markdown",
      "source": [
        "#9-Take two variable radius_1 and radius_2 and calculate the area of circle_1 and circle_2. Also print which circle has large area. If area is equal then print area is equal."
      ],
      "metadata": {
        "id": "7tfCnHq5VnsP"
      }
    },
    {
      "cell_type": "code",
      "source": [
        "R1=float(input(\"Radius_1 : { Please enter radius of 1st circle}\"))\n",
        "R2=float(input(\"Radius_2 : { Please enter radius of 2nd circle}\"))\n",
        "\n",
        "Area1=3.14*R1\n",
        "print(Area1)\n",
        "Area2=3.14*R2\n",
        "print(Area2)\n",
        "\n",
        "if Area1>Area2:\n",
        "  print(\"Circle 1 is bigger than circle 2\")\n",
        "elif Area2>Area1 :\n",
        "  print(\"Circle 2 is bigger than circle 1\")\n",
        "\n",
        "if Area1==Area2:\n",
        "  print(\"Both circle have equal area\") "
      ],
      "metadata": {
        "id": "J3ZZxx79a30i",
        "colab": {
          "base_uri": "https://localhost:8080/"
        },
        "outputId": "8f2b116a-2f71-4246-fddf-62f67d7584cc"
      },
      "execution_count": 3,
      "outputs": [
        {
          "output_type": "stream",
          "name": "stdout",
          "text": [
            "Radius_1 : { Please enter radius of 1st circle}20\n",
            "Radius_2 : { Please enter radius of 2nd circle}30\n",
            "62.800000000000004\n",
            "94.2\n",
            "Circle 2 is bigger than circle 1\n"
          ]
        }
      ]
    },
    {
      "cell_type": "code",
      "source": [
        "R1=float(input(\"Radius_1 : { Please enter radius of 1st circle}\"))\n",
        "R2=float(input(\"Radius_2 : { Please enter radius of 2nd circle}\"))\n",
        "\n",
        "Area1=3.14*R1\n",
        "print(Area1)\n",
        "Area2=3.14*R2\n",
        "print(Area2)\n",
        "\n",
        "if Area1>Area2:\n",
        "  print(\"Circle 1 is bigger than circle 2\")\n",
        "elif Area2>Area1 :\n",
        "  print(\"Circle 2 is bigger than circle 1\")\n",
        "\n",
        "if Area1==Area2:\n",
        "  print(\"Both circle have equal area\") "
      ],
      "metadata": {
        "colab": {
          "base_uri": "https://localhost:8080/"
        },
        "id": "drlGAXo6ukwq",
        "outputId": "80aa2258-8df2-4a2e-8986-6e6896124532"
      },
      "execution_count": 4,
      "outputs": [
        {
          "output_type": "stream",
          "name": "stdout",
          "text": [
            "Radius_1 : { Please enter radius of 1st circle}30\n",
            "Radius_2 : { Please enter radius of 2nd circle}20\n",
            "94.2\n",
            "62.800000000000004\n",
            "Circle 1 is bigger than circle 2\n"
          ]
        }
      ]
    },
    {
      "cell_type": "code",
      "source": [
        "R1=float(input(\"Radius_1 : { Please enter radius of 1st circle}\"))\n",
        "R2=float(input(\"Radius_2 : { Please enter radius of 2nd circle}\"))\n",
        "\n",
        "Area1=3.14*R1\n",
        "print(Area1)\n",
        "Area2=3.14*R2\n",
        "print(Area2)\n",
        "\n",
        "if Area1>Area2:\n",
        "  print(\"Circle 1 is bigger than circle 2\")\n",
        "elif Area2>Area1 :\n",
        "  print(\"Circle 2 is bigger than circle 1\")\n",
        "\n",
        "if Area1==Area2:\n",
        "  print(\"Both circle have equal area\") "
      ],
      "metadata": {
        "colab": {
          "base_uri": "https://localhost:8080/"
        },
        "id": "CRLagnoavEpT",
        "outputId": "ffd441e0-2ef6-4537-f29f-c6e176cec9f9"
      },
      "execution_count": 5,
      "outputs": [
        {
          "output_type": "stream",
          "name": "stdout",
          "text": [
            "Radius_1 : { Please enter radius of 1st circle}30\n",
            "Radius_2 : { Please enter radius of 2nd circle}30\n",
            "94.2\n",
            "94.2\n",
            "Both circle have equal area\n"
          ]
        }
      ]
    },
    {
      "cell_type": "markdown",
      "source": [
        "#10-Check whether a year is leap year or not. Use nested if...else to solve this problem. A leap year is exactly divisible by 4 except for century years (years ending with 00). The century year is a leap year only if it is perfectly divisible by 400."
      ],
      "metadata": {
        "id": "dxqec_sVvb7Z"
      }
    },
    {
      "cell_type": "code",
      "source": [
        "Year = int(input(\" Enter the year: \" ) )\n",
        "if ((Year % 4 ) == 0 and (Year % 100 ) != 0 or (Year % 400 ) == 0 ):\n",
        "  print(\"This is a Leap Year\")\n",
        "else:\n",
        "  print(\"This is not a leap year\")\n"
      ],
      "metadata": {
        "colab": {
          "base_uri": "https://localhost:8080/"
        },
        "id": "QCL5-JMPvkj1",
        "outputId": "546c86fc-8dca-494c-e26f-073d19075de8"
      },
      "execution_count": 24,
      "outputs": [
        {
          "output_type": "stream",
          "name": "stdout",
          "text": [
            " Enter the year: 2022\n",
            "This is not a leap year\n"
          ]
        }
      ]
    },
    {
      "cell_type": "code",
      "source": [
        "Year = int(input(\" Enter the year: \" ) )\n",
        "if ((Year % 4 ) == 0 and (Year % 100 ) != 0 or (Year % 400 ) == 0 ):\n",
        "  print(\"This is a Leap Year\")\n",
        "else:\n",
        "  print(\"This is not a leap year\")\n"
      ],
      "metadata": {
        "colab": {
          "base_uri": "https://localhost:8080/"
        },
        "id": "DbX3pz5IwLJK",
        "outputId": "5974e7a8-1ee2-4cc0-83a5-96815d0e742f"
      },
      "execution_count": 25,
      "outputs": [
        {
          "output_type": "stream",
          "name": "stdout",
          "text": [
            " Enter the year: 2020\n",
            "This is a Leap Year\n"
          ]
        }
      ]
    },
    {
      "cell_type": "code",
      "source": [
        "Year = int(input(\" Enter the year: \" ) )\n",
        "if ((Year % 4 ) == 0 and (Year % 100 ) != 0 or (Year % 400 ) == 0 ):\n",
        "  print(\"This is a Leap Year\")\n",
        "else:\n",
        "  print(\"This is not a leap year\")\n"
      ],
      "metadata": {
        "colab": {
          "base_uri": "https://localhost:8080/"
        },
        "id": "SJIPjGpMzqso",
        "outputId": "829aa351-8797-45a4-9596-d450564da999"
      },
      "execution_count": 26,
      "outputs": [
        {
          "output_type": "stream",
          "name": "stdout",
          "text": [
            " Enter the year: 3000\n",
            "This is not a leap year\n"
          ]
        }
      ]
    },
    {
      "cell_type": "code",
      "source": [
        "Year = int(input(\" Enter the year: \" ) )\n",
        "if ((Year % 4 ) == 0 and (Year % 100 ) != 0 or (Year % 400 ) == 0 ):\n",
        "  print(\"This is a Leap Year\")\n",
        "else:\n",
        "  print(\"This is not a leap year\")"
      ],
      "metadata": {
        "colab": {
          "base_uri": "https://localhost:8080/"
        },
        "id": "sPboLlMaztSE",
        "outputId": "f3d38228-dd38-4e1e-9cb4-7afef0399716"
      },
      "execution_count": 27,
      "outputs": [
        {
          "output_type": "stream",
          "name": "stdout",
          "text": [
            " Enter the year: 4000\n",
            "This is a Leap Year\n"
          ]
        }
      ]
    },
    {
      "cell_type": "code",
      "source": [],
      "metadata": {
        "id": "MpXGu7IVzwY8"
      },
      "execution_count": null,
      "outputs": []
    }
  ]
}